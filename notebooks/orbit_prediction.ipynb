import matplotlib.pyplot as plt

def plot_orbit_predictions(actual, predicted, title="Orbit ML Prediction"):
    fig, axs = plt.subplots(2, 3, figsize=(12, 6))
    labels = ["Inclination", "Eccentricity", "RAAN", "Arg Perigee", "Mean Anomaly", "Mean Motion"]
    for i in range(6):
        axs[i//3, i%3].plot(actual[:, i], label="Actual")
        axs[i//3, i%3].plot(predicted[:, i], label="Predicted", linestyle="--")
        axs[i//3, i%3].set_title(labels[i])
    plt.suptitle(title)
    plt.legend()
    plt.tight_layout()
    plt.show()

